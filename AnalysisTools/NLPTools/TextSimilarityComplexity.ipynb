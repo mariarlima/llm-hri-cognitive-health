{
 "cells": [
  {
   "cell_type": "markdown",
   "id": "b3c7ac0c",
   "metadata": {},
   "source": [
    "## Word Embedding"
   ]
  },
  {
   "cell_type": "code",
   "execution_count": 3,
   "id": "d14c3563",
   "metadata": {
    "vscode": {
     "languageId": "plaintext"
    }
   },
   "outputs": [],
   "source": [
    "import os\n",
    "import numpy as np\n",
    "from docx import Document\n",
    "from openai import OpenAI\n",
    "from dotenv import load_dotenv\n",
    "\n",
    "load_dotenv()\n",
    "client = OpenAI(api_key=os.environ.get(\"OPENAI_API_KEY\"))\n",
    "\n",
    "def get_embedding(text, model=\"text-embedding-3-small\"):\n",
    "   text = text.replace(\"\\n\", \" \")\n",
    "   return client.embeddings.create(input = [text], model=model).data[0].embedding"
   ]
  },
  {
   "cell_type": "code",
   "execution_count": 4,
   "id": "0d19175d",
   "metadata": {
    "vscode": {
     "languageId": "plaintext"
    }
   },
   "outputs": [],
   "source": [
    "def pad_embeddings(a, b):\n",
    "    target_length = max(len(a), len(b))\n",
    "    a = np.pad(a, (0, target_length - len(a)), 'constant')\n",
    "    b = np.pad(b, (0, target_length - len(b)), 'constant')\n",
    "    return a, b\n",
    "\n",
    "def cosine_similarity(a, b):\n",
    "    return np.dot(a, b) / (np.linalg.norm(a) * np.linalg.norm(b))"
   ]
  },
  {
   "cell_type": "code",
   "execution_count": null,
   "id": "37afe41f-e1d7-4982-902d-b705ee6633f9",
   "metadata": {},
   "outputs": [],
   "source": [
    "baseline_text = \"\"\"\n",
    "In the picture, a busy scene in a kitchen is depicted. Here are the details:\n",
    "\n",
    "1. **People**:\n",
    "   - There is a woman, likely the mother, standing by the sink washing dishes. She is holding a plate and a dish towel.\n",
    "   - A young boy is standing on a stool, reaching into an upper cabinet where there is a jar labeled \"COOKIE JAR.\" He has one hand in the jar and appears to be retrieving a cookie.\n",
    "   - A young girl stands next to the boy, reaching up as if to help or receive a cookie from him.\n",
    "\n",
    "2. **Actions**:\n",
    "   - The woman is washing dishes, but the sink is overflowing with water, which is spilling onto the floor.\n",
    "   - The boy is taking cookies from the jar.\n",
    "   - The girl is either reaching to help the boy or to receive a cookie from him.\n",
    "\n",
    "3. **Objects**:\n",
    "   - **Cookie jar**: Clearly labeled and located in an upper cabinet.\n",
    "   - **Stool**: The boy is standing on it to reach the cookie jar.\n",
    "   - **Sink**: Overflowing with water, indicating a possible plumbing issue or neglect due to distraction.\n",
    "   - **Dishes**: The woman is holding one, and there are a few other dishes visible on the counter.\n",
    "\n",
    "4. **Environment**:\n",
    "   - **Kitchen**: The setting is a typical kitchen with cabinets, a counter, a sink, and a window.\n",
    "   - **Window**: Through the window, a scene of a tree or bush is visible, suggesting it might be a backyard or garden view.\n",
    "   - **Curtains**: The window has curtains that are pulled back.\n",
    "\n",
    "The overall scene shows a mix of normal daily activity (dishwashing) with a bit of mischief (children reaching for cookies) and a potential mishap (overflowing sink).\n",
    "\"\"\""
   ]
  },
  {
   "cell_type": "code",
   "execution_count": null,
   "id": "60711584-f97c-4cd6-a866-9e882e56410c",
   "metadata": {},
   "outputs": [],
   "source": [
    "def read_docx(file_path):\n",
    "    doc = Document(file_path)\n",
    "    full_text = []\n",
    "    for para in doc.paragraphs:\n",
    "        full_text.append(para.text)\n",
    "    return full_text"
   ]
  },
  {
   "cell_type": "code",
   "execution_count": null,
   "id": "5a091300-7788-44b4-b1aa-0498b5aa6266",
   "metadata": {},
   "outputs": [],
   "source": [
    "full_text_list = read_docx(\"./data/P16_S1_check.docx\")"
   ]
  },
  {
   "cell_type": "code",
   "execution_count": null,
   "id": "51875fc9-0bfd-481d-9122-12ed592c873d",
   "metadata": {},
   "outputs": [],
   "source": [
    "full_text_list\n"
   ]
  },
  {
   "cell_type": "code",
   "execution_count": null,
   "id": "dcdbdf07-cc81-4b7e-aab3-837068fd48db",
   "metadata": {},
   "outputs": [],
   "source": [
    "t1_start_index = 0\n",
    "t1_end_index = 0\n",
    "for paragraph in full_text_list:\n",
    "    if \"storytelling\" in paragraph.lower():\n",
    "        break\n",
    "    t1_start_index += 1\n",
    "for paragraph in full_text_list:\n",
    "    if \"t2\" in paragraph.lower():\n",
    "        break\n",
    "    t1_end_index += 1\n",
    "\n",
    "t2_start_index = 0\n",
    "t2_end_index = len(full_text_list) - 1\n",
    "for paragraph in full_text_list:\n",
    "    if \"different game\" in paragraph.lower():\n",
    "        break\n",
    "    t2_start_index += 1"
   ]
  },
  {
   "cell_type": "code",
   "execution_count": null,
   "id": "1aba5711-df4b-43e9-afd2-681506f04d9a",
   "metadata": {},
   "outputs": [],
   "source": [
    "print(t1_start_index, t1_end_index, t2_start_index, t2_end_index)\n",
    "\n",
    "print(full_text_list[t1_start_index])\n",
    "print(full_text_list[t1_end_index])\n",
    "\n",
    "print(full_text_list[t2_start_index])\n",
    "print(full_text_list[t2_end_index])"
   ]
  },
  {
   "cell_type": "code",
   "execution_count": null,
   "id": "af438e24-8adb-429a-a777-15f9fabf2cef",
   "metadata": {},
   "outputs": [],
   "source": [
    "T1 = (full_text_list[t1_start_index:t1_end_index])"
   ]
  },
  {
   "cell_type": "code",
   "execution_count": null,
   "id": "f1152545-24bc-44c4-9818-7c48d1b191c0",
   "metadata": {},
   "outputs": [],
   "source": [
    "T2 = (full_text_list[t2_start_index:t2_end_index])"
   ]
  },
  {
   "cell_type": "code",
   "execution_count": null,
   "id": "a0f46e34-14a0-4768-8006-90c341bcf8dd",
   "metadata": {},
   "outputs": [],
   "source": [
    "T1_processed = list(\n",
    "    filter(lambda x: not ((x == \"\") or (\"speaker 0\" in x.lower()) or (x is None) or (\"first prompt\" in x.lower())),\n",
    "           T1))\n",
    "T2_processed = list(\n",
    "    filter(lambda x: not ((x == \"\") or (\"speaker 0\" in x.lower()) or (x is None) or (\"first prompt\" in x.lower())),\n",
    "           T2))"
   ]
  },
  {
   "cell_type": "code",
   "execution_count": null,
   "id": "514103e9-c345-46aa-a6c2-191886a1bdda",
   "metadata": {},
   "outputs": [],
   "source": [
    "for i in range(0, len(T1_processed)):\n",
    "    T1_processed[i] = T1_processed[i].replace(\"Speaker 1: \", \"\")\n",
    "for i in range(0, len(T2_processed)):\n",
    "    T2_processed[i] = T2_processed[i].replace(\"Speaker 1: \", \"\")"
   ]
  },
  {
   "cell_type": "code",
   "execution_count": null,
   "id": "8bf86219-7e75-42d4-b119-9706f1885a0e",
   "metadata": {},
   "outputs": [],
   "source": [
    "T1_processed"
   ]
  },
  {
   "cell_type": "code",
   "execution_count": null,
   "id": "d2ee365f-a072-40a6-a6cc-1159f9b048f8",
   "metadata": {},
   "outputs": [],
   "source": [
    "\"\".join(T1_processed)"
   ]
  },
  {
   "cell_type": "code",
   "execution_count": null,
   "id": "7ac4960d-6dd2-448e-af67-d30d82bcc2e6",
   "metadata": {},
   "outputs": [],
   "source": [
    "\"\".join(T2_processed)"
   ]
  },
  {
   "cell_type": "code",
   "execution_count": null,
   "id": "d18fcab1-92c4-41b8-8253-050c62edb254",
   "metadata": {},
   "outputs": [],
   "source": [
    "test_text = \"\".join(T1_processed)"
   ]
  },
  {
   "cell_type": "code",
   "execution_count": null,
   "id": "077b351d-84ba-4989-9833-cf7d9f052657",
   "metadata": {},
   "outputs": [],
   "source": [
    "baseline_text_emb = get_embedding(baseline_text)\n",
    "test_text_emb = get_embedding(test_text)"
   ]
  },
  {
   "cell_type": "code",
   "execution_count": null,
   "id": "1f04e8df-07b7-47ea-91d4-537a5ca05500",
   "metadata": {},
   "outputs": [],
   "source": [
    "baseline_text_emb, test_text_emb = pad_embeddings(baseline_text_emb, test_text_emb)"
   ]
  },
  {
   "cell_type": "code",
   "execution_count": null,
   "id": "edb68a87-e353-4c58-ade6-fc45b6397f26",
   "metadata": {},
   "outputs": [],
   "source": [
    "cosine_similarity(baseline_text_emb, test_text_emb)"
   ]
  },
  {
   "cell_type": "markdown",
   "id": "b87c43c3-bfd2-498d-a36b-35b750117a7a",
   "metadata": {},
   "source": [
    "## Small model"
   ]
  },
  {
   "cell_type": "code",
   "execution_count": 11,
   "id": "d10f31a9-06f9-4222-ac02-1f933037316c",
   "metadata": {},
   "outputs": [
    {
     "name": "stdout",
     "output_type": "stream",
     "text": [
      "0.5882354876342293\n"
     ]
    }
   ],
   "source": [
    "es_text = \"ganadora\"\n",
    "en_text = \"winner\"\n",
    "es_emb = get_embedding(es_text)\n",
    "en_emb = get_embedding(en_text)\n",
    "# es_emb, en_emb = pad_embeddings(es_emb, en_emb)\n",
    "print(cosine_similarity(es_emb, en_emb))"
   ]
  },
  {
   "cell_type": "code",
   "execution_count": 12,
   "id": "8b896205-a8cd-4d10-8814-2d25ac306868",
   "metadata": {},
   "outputs": [
    {
     "name": "stdout",
     "output_type": "stream",
     "text": [
      "0.7415913042988763\n"
     ]
    }
   ],
   "source": [
    "es_text = \"Me han regalado seis copas de cristal.\"\n",
    "en_text = \"I’ve been given six crystal glasses.\"\n",
    "es_emb = get_embedding(es_text)\n",
    "en_emb = get_embedding(en_text)\n",
    "# es_emb, en_emb = pad_embeddings(es_emb, en_emb)\n",
    "print(cosine_similarity(es_emb, en_emb))"
   ]
  },
  {
   "cell_type": "code",
   "execution_count": 13,
   "id": "f13530b0-bae1-4d71-8410-708a8a8464a1",
   "metadata": {},
   "outputs": [
    {
     "name": "stdout",
     "output_type": "stream",
     "text": [
      "0.6796877706385048\n"
     ]
    }
   ],
   "source": [
    "es_text = \"Quedamos finalistas en la Copa del Mundo.\"\n",
    "en_text = \"We reached the World Cup final.\"\n",
    "es_emb = get_embedding(es_text)\n",
    "en_emb = get_embedding(en_text)\n",
    "# es_emb, en_emb = pad_embeddings(es_emb, en_emb)\n",
    "print(cosine_similarity(es_emb, en_emb))"
   ]
  },
  {
   "cell_type": "code",
   "execution_count": 15,
   "id": "53063036-c8a3-44c6-886f-a54ea91cd76d",
   "metadata": {},
   "outputs": [
    {
     "name": "stdout",
     "output_type": "stream",
     "text": [
      "0.7913564745129511\n"
     ]
    }
   ],
   "source": [
    "es_text = \"\"\"\n",
    "En el centro de la escena, hay una mujer parada en el fregadero lavando los platos. Tiene el cabello corto y lleva un vestido sin mangas. Curiosamente, el agua se está desbordando del fregadero y derramándose en el piso, pero ella parece bastante tranquila y ajena al desorden. Tal vez está perdida en sus pensamientos o simplemente muy concentrada en su tarea.\n",
    "A la izquierda, hay un niño parado en un taburete, alcanzando un frasco de galletas en el armario. Parece muy decidido y concentrado en conseguir esas galletas. Debajo de él, una niña está extendiendo la mano, esperando recibir una galleta para ella misma. Está parada en el suelo, luciendo emocionada y tal vez un poco impaciente.\n",
    "A través de la ventana encima del fregadero, hay una vista de un paisaje tranquilo con árboles y una cerca. Esto añade un contraste agradable y sereno a la escena algo caótica de la cocina.\n",
    "El mostrador al lado del fregadero tiene varios platos y tazones.\n",
    "La atmósfera general de la imagen se siente un poco caótica pero aún hogareña. La mujer en el fregadero parece estar en su propio mundo, posiblemente relajada o tal vez soñando despierta. Por otro lado, el niño y la niña están llenos de energía y emoción, impulsados por su deseo de alcanzar las galletas.\n",
    "Parece que los niños se sienten traviesos y aventureros, mientras que la mujer está muy calmada o completamente inconsciente de la situación a su alrededor. Este contraste crea una escena humorística y animada.\n",
    "\"\"\"\n",
    "\n",
    "en_text = \"\"\"\n",
    "In the center of the scene, there's a woman standing at the sink doing the dishes. She has short hair and is wearing a sleeveless dress. Interestingly, water is overflowing from the sink and spilling onto the floor, but she seems quite calm and oblivious to the mess. Maybe she's lost in thought or just really focused on her task.\n",
    "To the left, there's a boy standing on a stool, reaching into a cupboard to grab some cookies from a jar. He seems quite determined and focused on getting those cookies. Below him, a girl is eagerly reaching up, hoping to get a cookie for herself. She's standing on the floor, looking excited and maybe a bit impatient.\n",
    "Through the window above the sink, there is a view of a peaceful landscape with trees and a fence. This adds a nice, tranquil contrast to the somewhat chaotic kitchen scene.\n",
    "The counter next to the sink has several plates and bowls.\n",
    "The overall atmosphere of the picture feels a bit chaotic but still homely. The woman at the sink seems to be in her own world, possibly relaxed or maybe daydreaming. The boy and girl, on the other hand, are full of energy and excitement, driven by their desire to get to the cookies.\n",
    "It seems like the kids are feeling mischievous and adventurous, while the woman is either very calm or completely unaware of the situation around her. This contrast creates a humorous and lively scene.\n",
    "\"\"\"\n",
    "\n",
    "es_emb = get_embedding(es_text.replace('\\n', ''))\n",
    "en_emb = get_embedding(en_text.replace('\\n', ''))\n",
    "# es_emb, en_emb = pad_embeddings(es_emb, en_emb)\n",
    "print(cosine_similarity(es_emb, en_emb))\n"
   ]
  },
  {
   "cell_type": "markdown",
   "id": "a15b6a2a-bd26-4d4f-b467-ba01af357d9d",
   "metadata": {},
   "source": [
    "## Large model"
   ]
  },
  {
   "cell_type": "code",
   "execution_count": 10,
   "id": "93c4299d-b579-4d36-8d97-a1b7782eba14",
   "metadata": {},
   "outputs": [],
   "source": [
    "def get_large_embedding(text):\n",
    "    return get_embedding(text, \"text-embedding-3-large\")"
   ]
  },
  {
   "cell_type": "code",
   "execution_count": 16,
   "id": "a1a69612-42f2-4794-9b4d-c41100fb1f14",
   "metadata": {},
   "outputs": [
    {
     "name": "stdout",
     "output_type": "stream",
     "text": [
      "0.5894377216156999\n"
     ]
    }
   ],
   "source": [
    "es_text = \"ganadora\"\n",
    "en_text = \"winner\"\n",
    "es_emb = get_large_embedding(es_text)\n",
    "en_emb = get_large_embedding(en_text)\n",
    "# es_emb, en_emb = pad_embeddings(es_emb, en_emb)\n",
    "print(cosine_similarity(es_emb, en_emb))"
   ]
  },
  {
   "cell_type": "code",
   "execution_count": 17,
   "id": "fb8fddb2-46ca-45c6-ac24-f71796da4adc",
   "metadata": {},
   "outputs": [
    {
     "name": "stdout",
     "output_type": "stream",
     "text": [
      "0.740733668001387\n"
     ]
    }
   ],
   "source": [
    "es_text = \"Me han regalado seis copas de cristal.\"\n",
    "en_text = \"I’ve been given six crystal glasses.\"\n",
    "es_emb = get_large_embedding(es_text)\n",
    "en_emb = get_large_embedding(en_text)\n",
    "# es_emb, en_emb = pad_embeddings(es_emb, en_emb)\n",
    "print(cosine_similarity(es_emb, en_emb))"
   ]
  },
  {
   "cell_type": "code",
   "execution_count": 18,
   "id": "b966415e-c7d0-4d9c-b87d-6d55fb7251f1",
   "metadata": {},
   "outputs": [
    {
     "name": "stdout",
     "output_type": "stream",
     "text": [
      "0.6724375980289032\n"
     ]
    }
   ],
   "source": [
    "es_text = \"Quedamos finalistas en la Copa del Mundo.\"\n",
    "en_text = \"We reached the World Cup final.\"\n",
    "es_emb = get_large_embedding(es_text)\n",
    "en_emb = get_large_embedding(en_text)\n",
    "# es_emb, en_emb = pad_embeddings(es_emb, en_emb)\n",
    "print(cosine_similarity(es_emb, en_emb))"
   ]
  },
  {
   "cell_type": "code",
   "execution_count": 19,
   "id": "1c6e1bac-3c40-44ca-ab7e-da479c60c2fb",
   "metadata": {},
   "outputs": [
    {
     "name": "stdout",
     "output_type": "stream",
     "text": [
      "0.7945417377385514\n"
     ]
    }
   ],
   "source": [
    "es_text = \"\"\"\n",
    "En el centro de la escena, hay una mujer parada en el fregadero lavando los platos. Tiene el cabello corto y lleva un vestido sin mangas. Curiosamente, el agua se está desbordando del fregadero y derramándose en el piso, pero ella parece bastante tranquila y ajena al desorden. Tal vez está perdida en sus pensamientos o simplemente muy concentrada en su tarea.\n",
    "A la izquierda, hay un niño parado en un taburete, alcanzando un frasco de galletas en el armario. Parece muy decidido y concentrado en conseguir esas galletas. Debajo de él, una niña está extendiendo la mano, esperando recibir una galleta para ella misma. Está parada en el suelo, luciendo emocionada y tal vez un poco impaciente.\n",
    "A través de la ventana encima del fregadero, hay una vista de un paisaje tranquilo con árboles y una cerca. Esto añade un contraste agradable y sereno a la escena algo caótica de la cocina.\n",
    "El mostrador al lado del fregadero tiene varios platos y tazones.\n",
    "La atmósfera general de la imagen se siente un poco caótica pero aún hogareña. La mujer en el fregadero parece estar en su propio mundo, posiblemente relajada o tal vez soñando despierta. Por otro lado, el niño y la niña están llenos de energía y emoción, impulsados por su deseo de alcanzar las galletas.\n",
    "Parece que los niños se sienten traviesos y aventureros, mientras que la mujer está muy calmada o completamente inconsciente de la situación a su alrededor. Este contraste crea una escena humorística y animada.\n",
    "\"\"\"\n",
    "\n",
    "en_text = \"\"\"\n",
    "In the center of the scene, there's a woman standing at the sink doing the dishes. She has short hair and is wearing a sleeveless dress. Interestingly, water is overflowing from the sink and spilling onto the floor, but she seems quite calm and oblivious to the mess. Maybe she's lost in thought or just really focused on her task.\n",
    "To the left, there's a boy standing on a stool, reaching into a cupboard to grab some cookies from a jar. He seems quite determined and focused on getting those cookies. Below him, a girl is eagerly reaching up, hoping to get a cookie for herself. She's standing on the floor, looking excited and maybe a bit impatient.\n",
    "Through the window above the sink, there is a view of a peaceful landscape with trees and a fence. This adds a nice, tranquil contrast to the somewhat chaotic kitchen scene.\n",
    "The counter next to the sink has several plates and bowls.\n",
    "The overall atmosphere of the picture feels a bit chaotic but still homely. The woman at the sink seems to be in her own world, possibly relaxed or maybe daydreaming. The boy and girl, on the other hand, are full of energy and excitement, driven by their desire to get to the cookies.\n",
    "It seems like the kids are feeling mischievous and adventurous, while the woman is either very calm or completely unaware of the situation around her. This contrast creates a humorous and lively scene.\n",
    "\"\"\"\n",
    "\n",
    "es_emb = get_large_embedding(es_text.replace('\\n', ''))\n",
    "en_emb = get_large_embedding(en_text.replace('\\n', ''))\n",
    "# es_emb, en_emb = pad_embeddings(es_emb, en_emb)\n",
    "print(cosine_similarity(es_emb, en_emb))\n"
   ]
  },
  {
   "cell_type": "markdown",
   "id": "3d5c1298-af5c-440b-87ff-b5467eec8647",
   "metadata": {},
   "source": [
    "## Baseline vs Response"
   ]
  },
  {
   "cell_type": "code",
   "execution_count": 20,
   "id": "c17984d4-dd0c-4379-8b5a-d05c5e1cb5e3",
   "metadata": {},
   "outputs": [
    {
     "ename": "ValueError",
     "evalue": "shapes (1536,) and (3072,) not aligned: 1536 (dim 0) != 3072 (dim 0)",
     "output_type": "error",
     "traceback": [
      "\u001b[1;31m---------------------------------------------------------------------------\u001b[0m",
      "\u001b[1;31mValueError\u001b[0m                                Traceback (most recent call last)",
      "Cell \u001b[1;32mIn[20], line 16\u001b[0m\n\u001b[0;32m     14\u001b[0m en_baseline_emb \u001b[38;5;241m=\u001b[39m get_embedding(en_baseline\u001b[38;5;241m.\u001b[39mreplace(\u001b[38;5;124m'\u001b[39m\u001b[38;5;130;01m\\n\u001b[39;00m\u001b[38;5;124m'\u001b[39m, \u001b[38;5;124m'\u001b[39m\u001b[38;5;124m'\u001b[39m))\n\u001b[0;32m     15\u001b[0m \u001b[38;5;66;03m# es_emb, en_emb = pad_embeddings(es_emb, en_emb)\u001b[39;00m\n\u001b[1;32m---> 16\u001b[0m \u001b[38;5;28mprint\u001b[39m(\u001b[43mcosine_similarity\u001b[49m\u001b[43m(\u001b[49m\u001b[43men_baseline_emb\u001b[49m\u001b[43m,\u001b[49m\u001b[43m \u001b[49m\u001b[43men_emb\u001b[49m\u001b[43m)\u001b[49m)\n",
      "Cell \u001b[1;32mIn[4], line 8\u001b[0m, in \u001b[0;36mcosine_similarity\u001b[1;34m(a, b)\u001b[0m\n\u001b[0;32m      7\u001b[0m \u001b[38;5;28;01mdef\u001b[39;00m \u001b[38;5;21mcosine_similarity\u001b[39m(a, b):\n\u001b[1;32m----> 8\u001b[0m     \u001b[38;5;28;01mreturn\u001b[39;00m \u001b[43mnp\u001b[49m\u001b[38;5;241;43m.\u001b[39;49m\u001b[43mdot\u001b[49m\u001b[43m(\u001b[49m\u001b[43ma\u001b[49m\u001b[43m,\u001b[49m\u001b[43m \u001b[49m\u001b[43mb\u001b[49m\u001b[43m)\u001b[49m \u001b[38;5;241m/\u001b[39m (np\u001b[38;5;241m.\u001b[39mlinalg\u001b[38;5;241m.\u001b[39mnorm(a) \u001b[38;5;241m*\u001b[39m np\u001b[38;5;241m.\u001b[39mlinalg\u001b[38;5;241m.\u001b[39mnorm(b))\n",
      "\u001b[1;31mValueError\u001b[0m: shapes (1536,) and (3072,) not aligned: 1536 (dim 0) != 3072 (dim 0)"
     ]
    }
   ],
   "source": [
    "en_text = \"\"\"\n",
    "In the center of the scene, there's a woman standing at the sink doing the dishes. She has short hair and is wearing a sleeveless dress. Interestingly, water is overflowing from the sink and spilling onto the floor, but she seems quite calm and oblivious to the mess. Maybe she's lost in thought or just really focused on her task. To the left, there's a boy standing on a stool, reaching into a cupboard to grab some cookies from a jar. He seems quite determined and focused on getting those cookies. Below him, a girl is eagerly reaching up, hoping to get a cookie for herself. She's standing on the floor, looking excited and maybe a bit impatient. Through the window above the sink, there is a view of a peaceful landscape with trees and a fence. This adds a nice, tranquil contrast to the somewhat chaotic kitchen scene. The counter next to the sink has several plates and bowls. The overall atmosphere of the picture feels a bit chaotic but still homely. The woman at the sink seems to be in her own world, possibly relaxed or maybe daydreaming. The boy and girl, on the other hand, are full of energy and excitement, driven by their desire to get to the cookies. It seems like the kids are feeling mischievous and adventurous, while the woman is either very calm or completely unaware of the situation around her. This contrast creates a humorous and lively scene.\"\"\"\n",
    "\n",
    "en_baseline = \"\"\"\n",
    "In the center of the scene, there's a woman standing at the sink doing the dishes. She has short hair and is wearing a sleeveless dress. Interestingly, water is overflowing from the sink and spilling onto the floor, but she seems quite calm and oblivious to the mess. Maybe she's lost in thought or just really focused on her task.\n",
    "To the left, there's a boy standing on a stool, reaching into a cupboard to grab some cookies from a jar. He seems quite determined and focused on getting those cookies. Below him, a girl is eagerly reaching up, hoping to get a cookie for herself. She's standing on the floor, looking excited and maybe a bit impatient.\n",
    "Through the window above the sink, there is a view of a peaceful landscape with trees and a fence. This adds a nice, tranquil contrast to the somewhat chaotic kitchen scene.\n",
    "The counter next to the sink has several plates and bowls.\n",
    "The overall atmosphere of the picture feels a bit chaotic but still homely. The woman at the sink seems to be in her own world, possibly relaxed or maybe daydreaming. The boy and girl, on the other hand, are full of energy and excitement, driven by their desire to get to the cookies.\n",
    "It seems like the kids are feeling mischievous and adventurous, while the woman is either very calm or completely unaware of the situation around her. This contrast creates a humorous and lively scene.\n",
    "\"\"\"\n",
    "\n",
    "es_emb = get_embedding(es_text.replace('\\n', ''))\n",
    "en_baseline_emb = get_embedding(en_baseline.replace('\\n', ''))\n",
    "# es_emb, en_emb = pad_embeddings(es_emb, en_emb)\n",
    "print(cosine_similarity(en_baseline_emb, en_emb))\n"
   ]
  },
  {
   "cell_type": "code",
   "execution_count": null,
   "id": "b49430b6-e5bb-4071-93fe-c4f89cbb78c5",
   "metadata": {},
   "outputs": [],
   "source": [
    "es_text = \"\"\"\n",
    "En el centro de la escena, hay una mujer parada en el fregadero lavando los platos. Tiene el cabello corto y lleva un vestido sin mangas. Curiosamente, el agua se está desbordando del fregadero y derramándose en el piso, pero ella parece bastante tranquila y ajena al desorden. Tal vez está perdida en sus pensamientos o simplemente muy concentrada en su tarea.\n",
    "A la izquierda, hay un niño parado en un taburete, alcanzando un frasco de galletas en el armario. Parece muy decidido y concentrado en conseguir esas galletas. Debajo de él, una niña está extendiendo la mano, esperando recibir una galleta para ella misma. Está parada en el suelo, luciendo emocionada y tal vez un poco impaciente.\n",
    "A través de la ventana encima del fregadero, hay una vista de un paisaje tranquilo con árboles y una cerca. Esto añade un contraste agradable y sereno a la escena algo caótica de la cocina.\n",
    "El mostrador al lado del fregadero tiene varios platos y tazones.\n",
    "La atmósfera general de la imagen se siente un poco caótica pero aún hogareña. La mujer en el fregadero parece estar en su propio mundo, posiblemente relajada o tal vez soñando despierta. Por otro lado, el niño y la niña están llenos de energía y emoción, impulsados por su deseo de alcanzar las galletas.\n",
    "Parece que los niños se sienten traviesos y aventureros, mientras que la mujer está muy calmada o completamente inconsciente de la situación a su alrededor. Este contraste crea una escena humorística y animada.\n",
    "\"\"\"\n",
    "\n",
    "es_baseline = \"\"\"\n",
    "En el centro de la escena, hay una mujer parada en el fregadero lavando los platos. Tiene el cabello corto y lleva un vestido sin mangas. Curiosamente, el agua se está desbordando del fregadero y derramándose en el piso, pero ella parece bastante tranquila y ajena al desorden. Tal vez está perdida en sus pensamientos o simplemente muy concentrada en su tarea.\n",
    "A la izquierda, hay un niño parado en un taburete, alcanzando un frasco de galletas en el armario. Parece muy decidido y concentrado en conseguir esas galletas. Debajo de él, una niña está extendiendo la mano, esperando recibir una galleta para ella misma. Está parada en el suelo, luciendo emocionada y tal vez un poco impaciente.\n",
    "A través de la ventana encima del fregadero, hay una vista de un paisaje tranquilo con árboles y una cerca. Esto añade un contraste agradable y sereno a la escena algo caótica de la cocina.\n",
    "El mostrador al lado del fregadero tiene varios platos y tazones.\n",
    "La atmósfera general de la imagen se siente un poco caótica pero aún hogareña. La mujer en el fregadero parece estar en su propio mundo, posiblemente relajada o tal vez soñando despierta. Por otro lado, el niño y la niña están llenos de energía y emoción, impulsados por su deseo de alcanzar las galletas.\n",
    "Parece que los niños se sienten traviesos y aventureros, mientras que la mujer está muy calmada o completamente inconsciente de la situación a su alrededor. Este contraste crea una escena humorística y animada.\"\"\"\n",
    "\n",
    "es_emb = get_embedding(es_text.replace('\\n', ''))\n",
    "en_emb = get_embedding(en_text.replace('\\n', ''))\n",
    "# es_emb, en_emb = pad_embeddings(es_emb, en_emb)\n",
    "print(cosine_similarity(es_emb, en_emb))\n"
   ]
  }
 ],
 "metadata": {
  "kernelspec": {
   "display_name": "Python 3 (ipykernel)",
   "language": "python",
   "name": "python3"
  },
  "language_info": {
   "codemirror_mode": {
    "name": "ipython",
    "version": 3
   },
   "file_extension": ".py",
   "mimetype": "text/x-python",
   "name": "python",
   "nbconvert_exporter": "python",
   "pygments_lexer": "ipython3",
   "version": "3.9.19"
  }
 },
 "nbformat": 4,
 "nbformat_minor": 5
}
