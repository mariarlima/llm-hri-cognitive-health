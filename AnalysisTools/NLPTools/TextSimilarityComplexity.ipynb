{
 "cells": [
  {
   "cell_type": "markdown",
   "id": "b3c7ac0c",
   "metadata": {},
   "source": [
    "## Word Embedding"
   ]
  },
  {
   "cell_type": "code",
   "execution_count": null,
   "id": "d14c3563",
   "metadata": {
    "vscode": {
     "languageId": "plaintext"
    }
   },
   "outputs": [],
   "source": [
    "import os\n",
    "import numpy as np\n",
    "from docx import Document\n",
    "from openai import OpenAI\n",
    "from dotenv import load_dotenv\n",
    "\n",
    "load_dotenv()\n",
    "client = OpenAI(api_key=os.environ.get(\"OPENAI_API_KEY\"))\n",
    "\n",
    "def get_embedding(text, model=\"text-embedding-3-small\"):\n",
    "   text = text.replace(\"\\n\", \" \")\n",
    "   return client.embeddings.create(input = [text], model=model).data[0].embedding"
   ]
  },
  {
   "cell_type": "code",
   "execution_count": null,
   "id": "0d19175d",
   "metadata": {
    "vscode": {
     "languageId": "plaintext"
    }
   },
   "outputs": [],
   "source": [
    "def pad_embeddings(a, b):\n",
    "    target_length = max(len(a), len(b))\n",
    "    a = np.pad(a, (0, target_length - len(a)), 'constant')\n",
    "    b = np.pad(b, (0, target_length - len(b)), 'constant')\n",
    "    return a, b\n",
    "\n",
    "def cosine_similarity(a, b):\n",
    "    return np.dot(a, b) / (np.linalg.norm(a) * np.linalg.norm(b))"
   ]
  },
  {
   "cell_type": "code",
   "execution_count": null,
   "id": "37afe41f-e1d7-4982-902d-b705ee6633f9",
   "metadata": {},
   "outputs": [],
   "source": [
    "baseline_text = \"\"\"\n",
    "In the picture, a busy scene in a kitchen is depicted. Here are the details:\n",
    "\n",
    "1. **People**:\n",
    "   - There is a woman, likely the mother, standing by the sink washing dishes. She is holding a plate and a dish towel.\n",
    "   - A young boy is standing on a stool, reaching into an upper cabinet where there is a jar labeled \"COOKIE JAR.\" He has one hand in the jar and appears to be retrieving a cookie.\n",
    "   - A young girl stands next to the boy, reaching up as if to help or receive a cookie from him.\n",
    "\n",
    "2. **Actions**:\n",
    "   - The woman is washing dishes, but the sink is overflowing with water, which is spilling onto the floor.\n",
    "   - The boy is taking cookies from the jar.\n",
    "   - The girl is either reaching to help the boy or to receive a cookie from him.\n",
    "\n",
    "3. **Objects**:\n",
    "   - **Cookie jar**: Clearly labeled and located in an upper cabinet.\n",
    "   - **Stool**: The boy is standing on it to reach the cookie jar.\n",
    "   - **Sink**: Overflowing with water, indicating a possible plumbing issue or neglect due to distraction.\n",
    "   - **Dishes**: The woman is holding one, and there are a few other dishes visible on the counter.\n",
    "\n",
    "4. **Environment**:\n",
    "   - **Kitchen**: The setting is a typical kitchen with cabinets, a counter, a sink, and a window.\n",
    "   - **Window**: Through the window, a scene of a tree or bush is visible, suggesting it might be a backyard or garden view.\n",
    "   - **Curtains**: The window has curtains that are pulled back.\n",
    "\n",
    "The overall scene shows a mix of normal daily activity (dishwashing) with a bit of mischief (children reaching for cookies) and a potential mishap (overflowing sink).\n",
    "\"\"\""
   ]
  },
  {
   "cell_type": "code",
   "execution_count": null,
   "id": "60711584-f97c-4cd6-a866-9e882e56410c",
   "metadata": {},
   "outputs": [],
   "source": [
    "def read_docx(file_path):\n",
    "    doc = Document(file_path)\n",
    "    full_text = []\n",
    "    for para in doc.paragraphs:\n",
    "        full_text.append(para.text)\n",
    "    return full_text"
   ]
  },
  {
   "cell_type": "code",
   "execution_count": null,
   "id": "5a091300-7788-44b4-b1aa-0498b5aa6266",
   "metadata": {},
   "outputs": [],
   "source": [
    "full_text_list = read_docx(\"./data/P16_S1_check.docx\")"
   ]
  },
  {
   "cell_type": "code",
   "execution_count": null,
   "id": "51875fc9-0bfd-481d-9122-12ed592c873d",
   "metadata": {},
   "outputs": [],
   "source": [
    "full_text_list\n"
   ]
  },
  {
   "cell_type": "code",
   "execution_count": null,
   "id": "dcdbdf07-cc81-4b7e-aab3-837068fd48db",
   "metadata": {},
   "outputs": [],
   "source": [
    "t1_start_index = 0\n",
    "t1_end_index = 0\n",
    "for paragraph in full_text_list:\n",
    "    if \"storytelling\" in paragraph.lower():\n",
    "        break\n",
    "    t1_start_index += 1\n",
    "for paragraph in full_text_list:\n",
    "    if \"t2\" in paragraph.lower():\n",
    "        break\n",
    "    t1_end_index += 1\n",
    "\n",
    "t2_start_index = 0\n",
    "t2_end_index = len(full_text_list) - 1\n",
    "for paragraph in full_text_list:\n",
    "    if \"different game\" in paragraph.lower():\n",
    "        break\n",
    "    t2_start_index += 1"
   ]
  },
  {
   "cell_type": "code",
   "execution_count": null,
   "id": "1aba5711-df4b-43e9-afd2-681506f04d9a",
   "metadata": {},
   "outputs": [],
   "source": [
    "print(t1_start_index, t1_end_index, t2_start_index, t2_end_index)\n",
    "\n",
    "print(full_text_list[t1_start_index])\n",
    "print(full_text_list[t1_end_index])\n",
    "\n",
    "print(full_text_list[t2_start_index])\n",
    "print(full_text_list[t2_end_index])"
   ]
  },
  {
   "cell_type": "code",
   "execution_count": null,
   "id": "af438e24-8adb-429a-a777-15f9fabf2cef",
   "metadata": {},
   "outputs": [],
   "source": [
    "T1 = (full_text_list[t1_start_index:t1_end_index])"
   ]
  },
  {
   "cell_type": "code",
   "execution_count": null,
   "id": "f1152545-24bc-44c4-9818-7c48d1b191c0",
   "metadata": {},
   "outputs": [],
   "source": [
    "T2 = (full_text_list[t2_start_index:t2_end_index])"
   ]
  },
  {
   "cell_type": "code",
   "execution_count": null,
   "id": "a0f46e34-14a0-4768-8006-90c341bcf8dd",
   "metadata": {},
   "outputs": [],
   "source": [
    "T1_processed = list(\n",
    "    filter(lambda x: not ((x == \"\") or (\"speaker 0\" in x.lower()) or (x is None) or (\"first prompt\" in x.lower())),\n",
    "           T1))\n",
    "T2_processed = list(\n",
    "    filter(lambda x: not ((x == \"\") or (\"speaker 0\" in x.lower()) or (x is None) or (\"first prompt\" in x.lower())),\n",
    "           T2))"
   ]
  },
  {
   "cell_type": "code",
   "execution_count": null,
   "id": "514103e9-c345-46aa-a6c2-191886a1bdda",
   "metadata": {},
   "outputs": [],
   "source": [
    "for i in range(0, len(T1_processed)):\n",
    "    T1_processed[i] = T1_processed[i].replace(\"Speaker 1: \", \"\")\n",
    "for i in range(0, len(T2_processed)):\n",
    "    T2_processed[i] = T2_processed[i].replace(\"Speaker 1: \", \"\")"
   ]
  },
  {
   "cell_type": "code",
   "execution_count": null,
   "id": "8bf86219-7e75-42d4-b119-9706f1885a0e",
   "metadata": {},
   "outputs": [],
   "source": [
    "T1_processed"
   ]
  },
  {
   "cell_type": "code",
   "execution_count": null,
   "id": "d2ee365f-a072-40a6-a6cc-1159f9b048f8",
   "metadata": {},
   "outputs": [],
   "source": [
    "\"\".join(T1_processed)"
   ]
  },
  {
   "cell_type": "code",
   "execution_count": null,
   "id": "7ac4960d-6dd2-448e-af67-d30d82bcc2e6",
   "metadata": {},
   "outputs": [],
   "source": [
    "\"\".join(T2_processed)"
   ]
  },
  {
   "cell_type": "code",
   "execution_count": null,
   "id": "d18fcab1-92c4-41b8-8253-050c62edb254",
   "metadata": {},
   "outputs": [],
   "source": [
    "test_text = \"\".join(T1_processed)"
   ]
  },
  {
   "cell_type": "code",
   "execution_count": null,
   "id": "077b351d-84ba-4989-9833-cf7d9f052657",
   "metadata": {},
   "outputs": [],
   "source": [
    "baseline_text_emb = get_embedding(baseline_text)\n",
    "test_text_emb = get_embedding(test_text)"
   ]
  },
  {
   "cell_type": "code",
   "execution_count": null,
   "id": "1f04e8df-07b7-47ea-91d4-537a5ca05500",
   "metadata": {},
   "outputs": [],
   "source": [
    "baseline_text_emb, test_text_emb = pad_embeddings(baseline_text_emb, test_text_emb)"
   ]
  },
  {
   "cell_type": "code",
   "execution_count": null,
   "id": "edb68a87-e353-4c58-ade6-fc45b6397f26",
   "metadata": {},
   "outputs": [],
   "source": [
    "cosine_similarity(baseline_text_emb, test_text_emb)"
   ]
  },
  {
   "cell_type": "code",
   "execution_count": null,
   "id": "7435e934-7929-49d6-91ed-ce138cc397a1",
   "metadata": {},
   "outputs": [],
   "source": []
  },
  {
   "cell_type": "code",
   "execution_count": null,
   "id": "6ac0910c-7a4c-437a-947a-c7cbeba4f3b7",
   "metadata": {},
   "outputs": [],
   "source": [
    "from sentence_transformers import SentenceTransformer\n",
    "\n",
    "model = SentenceTransformer(\"intfloat/e5-mistral-7b-instruct\")\n",
    "embeddings = model.encode([\n",
    "    \"The weather is lovely today.\",\n",
    "    \"It's so sunny outside!\",\n",
    "    \"He drove to the stadium.\",\n",
    "])\n",
    "similarities = model.similarity(embeddings, embeddings)"
   ]
  },
  {
   "cell_type": "code",
   "execution_count": null,
   "id": "a69e1c4c-d435-401b-b284-5ea6aafe06c4",
   "metadata": {},
   "outputs": [],
   "source": []
  }
 ],
 "metadata": {
  "kernelspec": {
   "display_name": "Python 3 (ipykernel)",
   "language": "python",
   "name": "python3"
  },
  "language_info": {
   "codemirror_mode": {
    "name": "ipython",
    "version": 3
   },
   "file_extension": ".py",
   "mimetype": "text/x-python",
   "name": "python",
   "nbconvert_exporter": "python",
   "pygments_lexer": "ipython3",
   "version": "3.12.3"
  }
 },
 "nbformat": 4,
 "nbformat_minor": 5
}
