{
 "cells": [
  {
   "cell_type": "markdown",
   "id": "b3c7ac0c",
   "metadata": {},
   "source": [
    "## Word Embedding"
   ]
  },
  {
   "cell_type": "code",
   "execution_count": 1,
   "id": "d14c3563",
   "metadata": {
    "vscode": {
     "languageId": "plaintext"
    }
   },
   "outputs": [],
   "source": [
    "import os\n",
    "import numpy as np\n",
    "from docx import Document\n",
    "from openai import OpenAI\n",
    "from dotenv import load_dotenv\n",
    "\n",
    "load_dotenv()\n",
    "client = OpenAI(api_key=os.environ.get(\"OPENAI_API_KEY\"))\n",
    "\n",
    "def get_embedding(text, model=\"text-embedding-3-small\"):\n",
    "   text = text.replace(\"\\n\", \" \")\n",
    "   return client.embeddings.create(input = [text], model=model).data[0].embedding"
   ]
  },
  {
   "cell_type": "code",
   "execution_count": 2,
   "id": "0d19175d",
   "metadata": {
    "vscode": {
     "languageId": "plaintext"
    }
   },
   "outputs": [],
   "source": [
    "def pad_embeddings(a, b):\n",
    "    target_length = max(len(a), len(b))\n",
    "    a = np.pad(a, (0, target_length - len(a)), 'constant')\n",
    "    b = np.pad(b, (0, target_length - len(b)), 'constant')\n",
    "    return a, b\n",
    "\n",
    "def cosine_similarity(a, b):\n",
    "    return np.dot(a, b) / (np.linalg.norm(a) * np.linalg.norm(b))"
   ]
  },
  {
   "cell_type": "code",
   "execution_count": 3,
   "id": "37afe41f-e1d7-4982-902d-b705ee6633f9",
   "metadata": {},
   "outputs": [],
   "source": [
    "baseline_text = \"\"\"\n",
    "In the picture, a busy scene in a kitchen is depicted. Here are the details:\n",
    "\n",
    "1. **People**:\n",
    "   - There is a woman, likely the mother, standing by the sink washing dishes. She is holding a plate and a dish towel.\n",
    "   - A young boy is standing on a stool, reaching into an upper cabinet where there is a jar labeled \"COOKIE JAR.\" He has one hand in the jar and appears to be retrieving a cookie.\n",
    "   - A young girl stands next to the boy, reaching up as if to help or receive a cookie from him.\n",
    "\n",
    "2. **Actions**:\n",
    "   - The woman is washing dishes, but the sink is overflowing with water, which is spilling onto the floor.\n",
    "   - The boy is taking cookies from the jar.\n",
    "   - The girl is either reaching to help the boy or to receive a cookie from him.\n",
    "\n",
    "3. **Objects**:\n",
    "   - **Cookie jar**: Clearly labeled and located in an upper cabinet.\n",
    "   - **Stool**: The boy is standing on it to reach the cookie jar.\n",
    "   - **Sink**: Overflowing with water, indicating a possible plumbing issue or neglect due to distraction.\n",
    "   - **Dishes**: The woman is holding one, and there are a few other dishes visible on the counter.\n",
    "\n",
    "4. **Environment**:\n",
    "   - **Kitchen**: The setting is a typical kitchen with cabinets, a counter, a sink, and a window.\n",
    "   - **Window**: Through the window, a scene of a tree or bush is visible, suggesting it might be a backyard or garden view.\n",
    "   - **Curtains**: The window has curtains that are pulled back.\n",
    "\n",
    "The overall scene shows a mix of normal daily activity (dishwashing) with a bit of mischief (children reaching for cookies) and a potential mishap (overflowing sink).\n",
    "\"\"\""
   ]
  },
  {
   "cell_type": "code",
   "execution_count": 4,
   "id": "60711584-f97c-4cd6-a866-9e882e56410c",
   "metadata": {},
   "outputs": [],
   "source": [
    "def read_docx(file_path):\n",
    "    doc = Document(file_path)\n",
    "    full_text = []\n",
    "    for para in doc.paragraphs:\n",
    "        full_text.append(para.text)\n",
    "    return full_text"
   ]
  },
  {
   "cell_type": "code",
   "execution_count": null,
   "id": "5a091300-7788-44b4-b1aa-0498b5aa6266",
   "metadata": {},
   "outputs": [],
   "source": []
  }
 ],
 "metadata": {
  "kernelspec": {
   "display_name": "Python 3 (ipykernel)",
   "language": "python",
   "name": "python3"
  },
  "language_info": {
   "codemirror_mode": {
    "name": "ipython",
    "version": 3
   },
   "file_extension": ".py",
   "mimetype": "text/x-python",
   "name": "python",
   "nbconvert_exporter": "python",
   "pygments_lexer": "ipython3",
   "version": "3.12.3"
  }
 },
 "nbformat": 4,
 "nbformat_minor": 5
}
